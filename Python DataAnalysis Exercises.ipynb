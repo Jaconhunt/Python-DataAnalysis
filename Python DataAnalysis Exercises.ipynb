{
 "cells": [
  {
   "cell_type": "code",
   "execution_count": 1,
   "metadata": {},
   "outputs": [
    {
     "data": {
      "text/plain": [
       "'\\n一家超市的顾客数据，\\n将数据可视化并分析销售额和年龄、收入的关系\\n并给出营销建议\\n年龄 收入 销售额\\n34  350 123\\n40  450 114\\n37  169 135\\n30  189 139\\n44  183 117\\n36  80  121\\n32  166 133\\n26  120 140\\n32  75  133\\n36  40  133\\n'"
      ]
     },
     "execution_count": 1,
     "metadata": {},
     "output_type": "execute_result"
    }
   ],
   "source": [
    "'''\n",
    "一、一家超市的顾客数据，\n",
    "将数据可视化并分析销售额和年龄、收入的关系\n",
    "并给出营销建议\n",
    "年龄 收入 销售额\n",
    "34  350 123\n",
    "40  450 114\n",
    "37  169 135\n",
    "30  189 139\n",
    "44  183 117\n",
    "36  80  121\n",
    "32  166 133\n",
    "26  120 140\n",
    "32  75  133\n",
    "36  40  133\n",
    "'''"
   ]
  },
  {
   "cell_type": "code",
   "execution_count": 3,
   "metadata": {},
   "outputs": [],
   "source": [
    "%matplotlib inline"
   ]
  },
  {
   "cell_type": "code",
   "execution_count": 4,
   "metadata": {},
   "outputs": [],
   "source": [
    "import matplotlib.pyplot as plt"
   ]
  },
  {
   "cell_type": "code",
   "execution_count": 16,
   "metadata": {},
   "outputs": [],
   "source": [
    "age = [34, 40, 37, 30, 44, 36, 32, 26, 32, 26]\n",
    "income = [350, 450, 169, 189, 183, 80, 166, 120, 75, 40]\n",
    "sales = [123, 114, 135, 139, 117, 121, 133, 140, 133, 133]"
   ]
  },
  {
   "cell_type": "code",
   "execution_count": 23,
   "metadata": {},
   "outputs": [
    {
     "data": {
      "text/plain": [
       "Text(0.5, 1.0, 'age relationship with sales ')"
      ]
     },
     "execution_count": 23,
     "metadata": {},
     "output_type": "execute_result"
    },
    {
     "data": {
      "image/png": "[encoded data removed]",
      "text/plain": [
       "<Figure size 432x288 with 1 Axes>"
      ]
     },
     "metadata": {
      "needs_background": "light"
     },
     "output_type": "display_data"
    }
   ],
   "source": [
    "fig = plt.figure()\n",
    "plt.scatter(age, sales)\n",
    "\n",
    "plt.xlabel('age')\n",
    "plt.ylabel('saels')\n",
    "plt.title('age relationship with sales ')"
   ]
  },
  {
   "cell_type": "code",
   "execution_count": 24,
   "metadata": {},
   "outputs": [
    {
     "data": {
      "text/plain": [
       "Text(0.5, 1.0, 'income relationship with sales')"
      ]
     },
     "execution_count": 24,
     "metadata": {},
     "output_type": "execute_result"
    },
    {
     "data": {
      "image/png": "[encoded data removed]",
      "text/plain": [
       "<Figure size 432x288 with 1 Axes>"
      ]
     },
     "metadata": {
      "needs_background": "light"
     },
     "output_type": "display_data"
    }
   ],
   "source": [
    "plt.scatter(income, sales)\n",
    "\n",
    "plt.xlabel('income')\n",
    "plt.ylabel('sales')\n",
    "plt.title('income relationship with sales')\n",
    "\n",
    "#可视化结论：顾客年龄和销售额负相关，年龄越大销售额越低。顾客收入和销售额也呈负相关，收入越高销售额越低\n",
    "#建议：营销针对人群应是一般收入100-200之间，年龄20-37之间的人群，这样营销效果更好\n",
    "#可以完善的是，利用最小二乘法拟合散点图"
   ]
  },
  {
   "cell_type": "code",
   "execution_count": 25,
   "metadata": {},
   "outputs": [
    {
     "data": {
      "text/plain": [
       "'\\n二、使用原生Python代码和Numpy并行计算分别求解下面的y值\\n条件：\\nx1 = [1,2,3,4,5]\\nx2 = [3,5,2,9,10]\\ny = x12 + x23\\n\\n求y值**\\n'"
      ]
     },
     "execution_count": 25,
     "metadata": {},
     "output_type": "execute_result"
    }
   ],
   "source": [
    "'''\n",
    "二、使用原生Python代码和Numpy并行计算分别求解下面的y值\n",
    "条件：\n",
    "x1 = [1,2,3,4,5]\n",
    "x2 = [3,5,2,9,10]\n",
    "y = x1**2 + x2**3\n",
    "\n",
    "求y值\n",
    "'''"
   ]
  },
  {
   "cell_type": "code",
   "execution_count": 28,
   "metadata": {},
   "outputs": [
    {
     "name": "stdout",
     "output_type": "stream",
     "text": [
      "[28, 129, 17, 745, 1025]\n"
     ]
    }
   ],
   "source": [
    "x1 = [1,2,3,4,5]\n",
    "x2 = [3,5,2,9,10]\n",
    "y = []\n",
    "for i in range(len(x1)):\n",
    "    y.append(x1[i] ** 2 + x2[i] ** 3)\n",
    "print(y)"
   ]
  },
  {
   "cell_type": "code",
   "execution_count": 29,
   "metadata": {},
   "outputs": [
    {
     "name": "stdout",
     "output_type": "stream",
     "text": [
      "[  28  129   17  745 1025]\n"
     ]
    }
   ],
   "source": [
    "import numpy as np\n",
    "a1 = np.array([1, 2, 3, 4, 5])\n",
    "a2 = np.array([3, 5, 2, 9, 10])\n",
    "print(a1**2 + a2**3)"
   ]
  },
  {
   "cell_type": "code",
   "execution_count": 30,
   "metadata": {},
   "outputs": [
    {
     "data": {
      "text/plain": [
       "'\\n三、返回下表中所有同学语文成绩最低的1次考试成绩\\nchinese english math name test\\n75  69  36  张三  一\\n68  85  87  李四  一\\n54  42  59  王五  一\\n55  57  63  李四  二\\n59  35  92  王五  二\\n45  63  92  王五  三\\n61  53  76  赵六  一\\n'"
      ]
     },
     "execution_count": 30,
     "metadata": {},
     "output_type": "execute_result"
    }
   ],
   "source": [
    "'''\n",
    "三、返回下表中所有同学语文成绩最低的1次考试成绩\n",
    "chinese english math name test\n",
    "75  69  36  张三  一\n",
    "68  85  87  李四  一\n",
    "54  42  59  王五  一\n",
    "55  57  63  李四  二\n",
    "59  35  92  王五  二\n",
    "45  63  92  王五  三\n",
    "61  53  76  赵六  一\n",
    "'''"
   ]
  },
  {
   "cell_type": "code",
   "execution_count": 34,
   "metadata": {},
   "outputs": [],
   "source": [
    "import numpy as np\n",
    "import pandas as pd"
   ]
  },
  {
   "cell_type": "code",
   "execution_count": 35,
   "metadata": {},
   "outputs": [],
   "source": [
    "data= {'chinese':[75, 68, 54, 55, 59, 45, 61],'english':[69, 85, 42, 57, 35, 63, 53], 'math':[36, 87, 59, 63, 92, 92, 76], 'name':['张三','李四','王五','李四','王五','王五','赵六'],'test':['一','一','一','二','二','三','一']}\n"
   ]
  },
  {
   "cell_type": "code",
   "execution_count": 37,
   "metadata": {},
   "outputs": [],
   "source": [
    "data = pd.DataFrame(data)"
   ]
  },
  {
   "cell_type": "code",
   "execution_count": 38,
   "metadata": {},
   "outputs": [
    {
     "data": {
      "text/html": [
       "<div>\n",
       "<style scoped>\n",
       "    .dataframe tbody tr th:only-of-type {\n",
       "        vertical-align: middle;\n",
       "    }\n",
       "\n",
       "    .dataframe tbody tr th {\n",
       "        vertical-align: top;\n",
       "    }\n",
       "\n",
       "    .dataframe thead th {\n",
       "        text-align: right;\n",
       "    }\n",
       "</style>\n",
       "<table border=\"1\" class=\"dataframe\">\n",
       "  <thead>\n",
       "    <tr style=\"text-align: right;\">\n",
       "      <th></th>\n",
       "      <th>chinese</th>\n",
       "      <th>english</th>\n",
       "      <th>math</th>\n",
       "      <th>name</th>\n",
       "      <th>test</th>\n",
       "    </tr>\n",
       "  </thead>\n",
       "  <tbody>\n",
       "    <tr>\n",
       "      <th>0</th>\n",
       "      <td>75</td>\n",
       "      <td>69</td>\n",
       "      <td>36</td>\n",
       "      <td>张三</td>\n",
       "      <td>一</td>\n",
       "    </tr>\n",
       "    <tr>\n",
       "      <th>1</th>\n",
       "      <td>68</td>\n",
       "      <td>85</td>\n",
       "      <td>87</td>\n",
       "      <td>李四</td>\n",
       "      <td>一</td>\n",
       "    </tr>\n",
       "    <tr>\n",
       "      <th>2</th>\n",
       "      <td>54</td>\n",
       "      <td>42</td>\n",
       "      <td>59</td>\n",
       "      <td>王五</td>\n",
       "      <td>一</td>\n",
       "    </tr>\n",
       "    <tr>\n",
       "      <th>3</th>\n",
       "      <td>55</td>\n",
       "      <td>57</td>\n",
       "      <td>63</td>\n",
       "      <td>李四</td>\n",
       "      <td>二</td>\n",
       "    </tr>\n",
       "    <tr>\n",
       "      <th>4</th>\n",
       "      <td>59</td>\n",
       "      <td>35</td>\n",
       "      <td>92</td>\n",
       "      <td>王五</td>\n",
       "      <td>二</td>\n",
       "    </tr>\n",
       "    <tr>\n",
       "      <th>5</th>\n",
       "      <td>45</td>\n",
       "      <td>63</td>\n",
       "      <td>92</td>\n",
       "      <td>王五</td>\n",
       "      <td>三</td>\n",
       "    </tr>\n",
       "    <tr>\n",
       "      <th>6</th>\n",
       "      <td>61</td>\n",
       "      <td>53</td>\n",
       "      <td>76</td>\n",
       "      <td>赵六</td>\n",
       "      <td>一</td>\n",
       "    </tr>\n",
       "  </tbody>\n",
       "</table>\n",
       "</div>"
      ],
      "text/plain": [
       "   chinese  english  math name test\n",
       "0       75       69    36   张三    一\n",
       "1       68       85    87   李四    一\n",
       "2       54       42    59   王五    一\n",
       "3       55       57    63   李四    二\n",
       "4       59       35    92   王五    二\n",
       "5       45       63    92   王五    三\n",
       "6       61       53    76   赵六    一"
      ]
     },
     "execution_count": 38,
     "metadata": {},
     "output_type": "execute_result"
    }
   ],
   "source": [
    "data #返回所有同学语文成绩最低的一次考试成绩\n",
    "# 所有同学，张三、李四、王五、赵六，语文成绩最低，即按三次test排序最低的一次，跟三次考试相比"
   ]
  },
  {
   "cell_type": "code",
   "execution_count": 42,
   "metadata": {},
   "outputs": [
    {
     "data": {
      "text/plain": [
       "chinese    45\n",
       "english    35\n",
       "math       36\n",
       "name       张三\n",
       "test        一\n",
       "dtype: object"
      ]
     },
     "execution_count": 42,
     "metadata": {},
     "output_type": "execute_result"
    }
   ],
   "source": [
    "data.min(axis =0)  #跨行操作"
   ]
  },
  {
   "cell_type": "code",
   "execution_count": 49,
   "metadata": {},
   "outputs": [
    {
     "data": {
      "text/html": [
       "<div>\n",
       "<style scoped>\n",
       "    .dataframe tbody tr th:only-of-type {\n",
       "        vertical-align: middle;\n",
       "    }\n",
       "\n",
       "    .dataframe tbody tr th {\n",
       "        vertical-align: top;\n",
       "    }\n",
       "\n",
       "    .dataframe thead th {\n",
       "        text-align: right;\n",
       "    }\n",
       "</style>\n",
       "<table border=\"1\" class=\"dataframe\">\n",
       "  <thead>\n",
       "    <tr style=\"text-align: right;\">\n",
       "      <th></th>\n",
       "      <th></th>\n",
       "      <th>chinese</th>\n",
       "      <th>english</th>\n",
       "      <th>math</th>\n",
       "      <th>name</th>\n",
       "      <th>test</th>\n",
       "    </tr>\n",
       "    <tr>\n",
       "      <th>name</th>\n",
       "      <th></th>\n",
       "      <th></th>\n",
       "      <th></th>\n",
       "      <th></th>\n",
       "      <th></th>\n",
       "      <th></th>\n",
       "    </tr>\n",
       "  </thead>\n",
       "  <tbody>\n",
       "    <tr>\n",
       "      <th>张三</th>\n",
       "      <th>0</th>\n",
       "      <td>75</td>\n",
       "      <td>69</td>\n",
       "      <td>36</td>\n",
       "      <td>张三</td>\n",
       "      <td>一</td>\n",
       "    </tr>\n",
       "    <tr>\n",
       "      <th>李四</th>\n",
       "      <th>3</th>\n",
       "      <td>55</td>\n",
       "      <td>57</td>\n",
       "      <td>63</td>\n",
       "      <td>李四</td>\n",
       "      <td>二</td>\n",
       "    </tr>\n",
       "    <tr>\n",
       "      <th>王五</th>\n",
       "      <th>5</th>\n",
       "      <td>45</td>\n",
       "      <td>63</td>\n",
       "      <td>92</td>\n",
       "      <td>王五</td>\n",
       "      <td>三</td>\n",
       "    </tr>\n",
       "    <tr>\n",
       "      <th>赵六</th>\n",
       "      <th>6</th>\n",
       "      <td>61</td>\n",
       "      <td>53</td>\n",
       "      <td>76</td>\n",
       "      <td>赵六</td>\n",
       "      <td>一</td>\n",
       "    </tr>\n",
       "  </tbody>\n",
       "</table>\n",
       "</div>"
      ],
      "text/plain": [
       "        chinese  english  math name test\n",
       "name                                    \n",
       "张三   0       75       69    36   张三    一\n",
       "李四   3       55       57    63   李四    二\n",
       "王五   5       45       63    92   王五    三\n",
       "赵六   6       61       53    76   赵六    一"
      ]
     },
     "execution_count": 49,
     "metadata": {},
     "output_type": "execute_result"
    }
   ],
   "source": [
    "import pandas as pd\n",
    "def top(x,column='chinese'):\n",
    "    return x.sort_values(by=column)[:1]\n",
    "data.groupby('name').apply(top)  #此种解法应该还是有问题"
   ]
  },
  {
   "cell_type": "code",
   "execution_count": 53,
   "metadata": {},
   "outputs": [],
   "source": [
    "import numpy as np\n",
    "import matplotlib.pyplot as plt\n",
    "class trigonometric_function:\n",
    "    tra_1=6\n",
    "    tra_2=12\n",
    "    def _init_(self,a,k,l):\n",
    "        self.const1=a\n",
    "        self.const2=k\n",
    "        self.const3=l\n",
    "    def Additive_term(self,x):\n",
    "        self.summand_s=np.sin(self.const2*x+self.tra_1)\n",
    "        self.summand_c=np.cos(self.const3*x+self.tra_2)\n",
    "    def trigon_sum(self,m,n):\n",
    "        sum_1=sum([sum([self.const1*(self.summand_s**i)*(self.summand_c**j) for i in range(m) ]) for j in range(n)]) \n",
    "        return sum_1\n",
    "    def draw_pic(self,data):\n",
    "        fig,axes_1=plt.subplots(1,1,dpi=140,figsize=(8,6))\n",
    "        #x=np.linspace(-5,5,500)\n",
    "        axes_1.plot(x,data)\n",
    "        plt.show()"
   ]
  },
  {
   "cell_type": "code",
   "execution_count": 51,
   "metadata": {},
   "outputs": [
    {
     "data": {
      "text/plain": [
       "'\\n a.请在代码中找出类变量、实例变量、方法、对象\\n    #类变量：tra1,tra2,const1,const2,const3,summand_s,summand_c\\n    #实例变量：x,a,k,l,m,n,data(通常前面没有self.。)\\n    #方法（属性）： Additive_term、trigonsum、drawpic\\n    #对象：方法、类变量和实例变量\\n    b.请写出程序中所涉及到的三角级数\\n    c.self 什么意思？\\n    self 代表类的实例，self 在定义类的方法时是必须有的，虽然在调用时不必传入相应的参数。\\n    d.请阐述下列代码运行后会有什么结果\\n    f1=trigonometric_function()\\n    #类的实例化\\n    f1._init_(3,4,6)\\n    #对类进行初始化\\n    x=np.linspace(-5,5,500)\\n    #生成500个-5到5之间的点\\n    f1.Additive_term(x)\\n    #生成普通三角函数sin和cos\\n    data=f1.trigon_sum(4,5)\\n    #生成三角级数数据\\n    f1.draw_pic(data)\\n    #绘图\\n'"
      ]
     },
     "execution_count": 51,
     "metadata": {},
     "output_type": "execute_result"
    }
   ],
   "source": [
    "'''\n",
    " a.请在代码中找出类变量、实例变量、方法、对象\n",
    "    #类变量：tra1,tra2,const1,const2,const3,summand_s,summand_c\n",
    "    #实例变量：x,a,k,l,m,n,data(通常前面没有self.)\n",
    "    #方法（属性）： Additive_term、trigonsum、drawpic\n",
    "    #对象：方法、类变量和实例变量\n",
    "    b.请写出程序中所涉及到的三角级数\n",
    "    c.self 什么意思？\n",
    "    self 代表类的实例，self 在定义类的方法时是必须有的，虽然在调用时不必传入相应的参数。\n",
    "    d.请阐述下列代码运行后会有什么结果\n",
    "    f1=trigonometric_function()\n",
    "    #类的实例化\n",
    "    f1._init_(3,4,6)\n",
    "    #对类进行初始化\n",
    "    x=np.linspace(-5,5,500)\n",
    "    #生成500个-5到5之间的点\n",
    "    f1.Additive_term(x)\n",
    "    #生成普通三角函数sin和cos\n",
    "    data=f1.trigon_sum(4,5)\n",
    "    #生成三角级数数据\n",
    "    f1.draw_pic(data)\n",
    "    #绘图\n",
    "'''"
   ]
  },
  {
   "cell_type": "code",
   "execution_count": 54,
   "metadata": {},
   "outputs": [
    {
     "data": {
      "image/png": "[encoded data removed]",
      "text/plain": [
       "<Figure size 1120x840 with 1 Axes>"
      ]
     },
     "metadata": {
      "needs_background": "light"
     },
     "output_type": "display_data"
    }
   ],
   "source": [
    "f1=trigonometric_function()\n",
    "    #类的实例化\n",
    "f1._init_(3,4,6)\n",
    "    #对类进行初始化\n",
    "x=np.linspace(-5,5,500)\n",
    "    #生成500个-5到5之间的点\n",
    "f1.Additive_term(x)\n",
    "    #生成普通三角函数sin和cos\n",
    "data=f1.trigon_sum(4,5)\n",
    "    #生成三角级数数据\n",
    "f1.draw_pic(data)\n",
    "    #绘图"
   ]
  },
  {
   "cell_type": "code",
   "execution_count": 55,
   "metadata": {},
   "outputs": [
    {
     "data": {
      "text/plain": [
       "'\\n四、Python数据分析及可视化-小测验\\n'"
      ]
     },
     "execution_count": 55,
     "metadata": {},
     "output_type": "execute_result"
    }
   ],
   "source": [
    "'''\n",
    "四、Python数据分析及可视化-小测验\n",
    "https://www.jianshu.com/p/ea6a37a40195\n",
    "'''"
   ]
  }
 ],
 "metadata": {
  "kernelspec": {
   "display_name": "Python 3",
   "language": "python",
   "name": "python3"
  },
  "language_info": {
   "codemirror_mode": {
    "name": "ipython",
    "version": 3
   },
   "file_extension": ".py",
   "mimetype": "text/x-python",
   "name": "python",
   "nbconvert_exporter": "python",
   "pygments_lexer": "ipython3",
   "version": "3.7.0"
  }
 },
 "nbformat": 4,
 "nbformat_minor": 2
}
