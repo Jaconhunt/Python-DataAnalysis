{
 "cells": [
  {
   "cell_type": "markdown",
   "metadata": {},
   "source": [
    "### 第一步：导入相应的模块"
   ]
  },
  {
   "cell_type": "code",
   "execution_count": 15,
   "metadata": {},
   "outputs": [],
   "source": [
    "import pandas as pd\n",
    "import numpy as np\n",
    "import matplotlib.pyplot as plt\n",
    "plt.rcParams['font.sans-serif'] = ['SimHei'] #用来正常显示中文标签\n",
    "plt.rcParams['axes.unicode_minus']=False #用来正常显示负号\n",
    "%matplotlib inline"
   ]
  },
  {
   "cell_type": "markdown",
   "metadata": {},
   "source": [
    "### 第二步：利用pandas读取datasets目录下special_top250.csv并显示前五行数据（赋值给变量top250）"
   ]
  },
  {
   "cell_type": "code",
   "execution_count": 6,
   "metadata": {},
   "outputs": [
    {
     "data": {
      "text/html": [
       "<div>\n",
       "<style scoped>\n",
       "    .dataframe tbody tr th:only-of-type {\n",
       "        vertical-align: middle;\n",
       "    }\n",
       "\n",
       "    .dataframe tbody tr th {\n",
       "        vertical-align: top;\n",
       "    }\n",
       "\n",
       "    .dataframe thead th {\n",
       "        text-align: right;\n",
       "    }\n",
       "</style>\n",
       "<table border=\"1\" class=\"dataframe\">\n",
       "  <thead>\n",
       "    <tr style=\"text-align: right;\">\n",
       "      <th></th>\n",
       "      <th>Unnamed: 0</th>\n",
       "      <th>num</th>\n",
       "      <th>title</th>\n",
       "      <th>init_year</th>\n",
       "      <th>area</th>\n",
       "      <th>genre</th>\n",
       "      <th>rating_num</th>\n",
       "      <th>comment_num</th>\n",
       "      <th>language</th>\n",
       "      <th>director</th>\n",
       "      <th>cast</th>\n",
       "      <th>movie_duration</th>\n",
       "      <th>tags</th>\n",
       "    </tr>\n",
       "  </thead>\n",
       "  <tbody>\n",
       "    <tr>\n",
       "      <th>0</th>\n",
       "      <td>0</td>\n",
       "      <td>1</td>\n",
       "      <td>肖申克的救赎</td>\n",
       "      <td>1994</td>\n",
       "      <td>美国</td>\n",
       "      <td>犯罪 剧情</td>\n",
       "      <td>9.6</td>\n",
       "      <td>964842</td>\n",
       "      <td>英语</td>\n",
       "      <td>弗兰克·德拉邦特 Frank Darabont</td>\n",
       "      <td>蒂姆·罗宾斯 Tim Robbins', '摩根·弗里曼 Morgan Freeman', ...</td>\n",
       "      <td>142</td>\n",
       "      <td>[{'count': 197742, 'name': '经典'}, {'count': 16...</td>\n",
       "    </tr>\n",
       "    <tr>\n",
       "      <th>1</th>\n",
       "      <td>1</td>\n",
       "      <td>2</td>\n",
       "      <td>霸王别姬</td>\n",
       "      <td>1993</td>\n",
       "      <td>中国大陆 香港</td>\n",
       "      <td>剧情 爱情 同性</td>\n",
       "      <td>9.5</td>\n",
       "      <td>699930</td>\n",
       "      <td>汉语普通话</td>\n",
       "      <td>陈凯歌 Kaige Chen</td>\n",
       "      <td>张国荣 Leslie Cheung', '张丰毅 Fengyi Zhang', '巩俐 Li...</td>\n",
       "      <td>171</td>\n",
       "      <td>[{'count': 124150, 'name': '经典'}, {'count': 63...</td>\n",
       "    </tr>\n",
       "    <tr>\n",
       "      <th>2</th>\n",
       "      <td>2</td>\n",
       "      <td>3</td>\n",
       "      <td>这个杀手不太冷</td>\n",
       "      <td>1994</td>\n",
       "      <td>法国</td>\n",
       "      <td>剧情 动作 犯罪</td>\n",
       "      <td>9.4</td>\n",
       "      <td>912435</td>\n",
       "      <td>英语', '意大利语', '法语</td>\n",
       "      <td>吕克·贝松 Luc Besson</td>\n",
       "      <td>让·雷诺 Jean Reno', '娜塔莉·波特曼 Natalie Portman', '加...</td>\n",
       "      <td>110</td>\n",
       "      <td>[{'count': 150097, 'name': '经典'}, {'count': 85...</td>\n",
       "    </tr>\n",
       "    <tr>\n",
       "      <th>3</th>\n",
       "      <td>3</td>\n",
       "      <td>4</td>\n",
       "      <td>阿甘正传</td>\n",
       "      <td>1994</td>\n",
       "      <td>美国</td>\n",
       "      <td>剧情 爱情</td>\n",
       "      <td>9.4</td>\n",
       "      <td>775889</td>\n",
       "      <td>英语</td>\n",
       "      <td>Robert Zemeckis</td>\n",
       "      <td>Tom Hanks', 'Robin Wright Penn', 'Gary Sinise'...</td>\n",
       "      <td>142</td>\n",
       "      <td>[{'count': 179046, 'name': '励志'}, {'count': 13...</td>\n",
       "    </tr>\n",
       "    <tr>\n",
       "      <th>4</th>\n",
       "      <td>4</td>\n",
       "      <td>5</td>\n",
       "      <td>美丽人生</td>\n",
       "      <td>1997</td>\n",
       "      <td>意大利</td>\n",
       "      <td>剧情 喜剧 爱情 战争</td>\n",
       "      <td>9.5</td>\n",
       "      <td>453651</td>\n",
       "      <td>意大利语', '德语', '英语</td>\n",
       "      <td>罗伯托·贝尼尼 Roberto Benigni</td>\n",
       "      <td>罗伯托·贝尼尼 Roberto Benigni', '尼可莱塔·布拉斯基 Nicoletta...</td>\n",
       "      <td>116</td>\n",
       "      <td>[{'count': 70710, 'name': '意大利'}, {'count': 67...</td>\n",
       "    </tr>\n",
       "  </tbody>\n",
       "</table>\n",
       "</div>"
      ],
      "text/plain": [
       "   Unnamed: 0  num    title init_year     area        genre  rating_num  \\\n",
       "0           0    1   肖申克的救赎      1994       美国        犯罪 剧情         9.6   \n",
       "1           1    2     霸王别姬      1993  中国大陆 香港     剧情 爱情 同性         9.5   \n",
       "2           2    3  这个杀手不太冷      1994       法国     剧情 动作 犯罪         9.4   \n",
       "3           3    4     阿甘正传      1994       美国        剧情 爱情         9.4   \n",
       "4           4    5     美丽人生      1997      意大利  剧情 喜剧 爱情 战争         9.5   \n",
       "\n",
       "   comment_num          language                 director  \\\n",
       "0       964842                英语  弗兰克·德拉邦特 Frank Darabont   \n",
       "1       699930             汉语普通话           陈凯歌 Kaige Chen   \n",
       "2       912435  英语', '意大利语', '法语         吕克·贝松 Luc Besson   \n",
       "3       775889                英语          Robert Zemeckis   \n",
       "4       453651  意大利语', '德语', '英语  罗伯托·贝尼尼 Roberto Benigni   \n",
       "\n",
       "                                                cast  movie_duration  \\\n",
       "0  蒂姆·罗宾斯 Tim Robbins', '摩根·弗里曼 Morgan Freeman', ...             142   \n",
       "1  张国荣 Leslie Cheung', '张丰毅 Fengyi Zhang', '巩俐 Li...             171   \n",
       "2  让·雷诺 Jean Reno', '娜塔莉·波特曼 Natalie Portman', '加...             110   \n",
       "3  Tom Hanks', 'Robin Wright Penn', 'Gary Sinise'...             142   \n",
       "4  罗伯托·贝尼尼 Roberto Benigni', '尼可莱塔·布拉斯基 Nicoletta...             116   \n",
       "\n",
       "                                                tags  \n",
       "0  [{'count': 197742, 'name': '经典'}, {'count': 16...  \n",
       "1  [{'count': 124150, 'name': '经典'}, {'count': 63...  \n",
       "2  [{'count': 150097, 'name': '经典'}, {'count': 85...  \n",
       "3  [{'count': 179046, 'name': '励志'}, {'count': 13...  \n",
       "4  [{'count': 70710, 'name': '意大利'}, {'count': 67...  "
      ]
     },
     "execution_count": 6,
     "metadata": {},
     "output_type": "execute_result"
    }
   ],
   "source": [
    "top250 = pd.read_csv('special_top250.csv')\n",
    "top250.head(5)"
   ]
  },
  {
   "cell_type": "markdown",
   "metadata": {},
   "source": [
    "### 第三步：在同一个图中绘制出电影时长和电影排名的散点图关系及电影时长的频率分布直方图，分50组，如下图所示："
   ]
  },
  {
   "cell_type": "code",
   "execution_count": 41,
   "metadata": {},
   "outputs": [
    {
     "data": {
      "text/plain": [
       "(array([ 1.,  0.,  0.,  0.,  1.,  1.,  1.,  1.,  0.,  4., 11.,  9., 15.,\n",
       "        19.,  9., 14., 18.,  9., 20., 10., 12.,  8., 17., 12.,  9.,  5.,\n",
       "         7.,  4.,  2.,  2.,  6.,  4.,  5.,  3.,  3.,  0.,  0.,  1.,  2.,\n",
       "         0.,  2.,  0.,  0.,  0.,  0.,  0.,  0.,  1.,  0.,  2.]),\n",
       " array([ 45.  ,  48.86,  52.72,  56.58,  60.44,  64.3 ,  68.16,  72.02,\n",
       "         75.88,  79.74,  83.6 ,  87.46,  91.32,  95.18,  99.04, 102.9 ,\n",
       "        106.76, 110.62, 114.48, 118.34, 122.2 , 126.06, 129.92, 133.78,\n",
       "        137.64, 141.5 , 145.36, 149.22, 153.08, 156.94, 160.8 , 164.66,\n",
       "        168.52, 172.38, 176.24, 180.1 , 183.96, 187.82, 191.68, 195.54,\n",
       "        199.4 , 203.26, 207.12, 210.98, 214.84, 218.7 , 222.56, 226.42,\n",
       "        230.28, 234.14, 238.  ]),\n",
       " <a list of 50 Patch objects>)"
      ]
     },
     "execution_count": 41,
     "metadata": {},
     "output_type": "execute_result"
    },
    {
     "data": {
      "image/png": "[encoded data removed]",
      "text/plain": [
       "<Figure size 1008x432 with 2 Axes>"
      ]
     },
     "metadata": {
      "needs_background": "light"
     },
     "output_type": "display_data"
    }
   ],
   "source": [
    "x = top250['movie_duration']\n",
    "y = top250['num']\n",
    "plt.figure(figsize=(14,6))\n",
    "plt.subplot(121)\n",
    "plt.scatter(x, y, color = 'blue')\n",
    "plt.xlabel('电影时长')\n",
    "plt.ylabel('电影排名')\n",
    "\n",
    "plt.subplot(122)\n",
    "plt.hist(x, bins =50)"
   ]
  },
  {
   "cell_type": "markdown",
   "metadata": {},
   "source": [
    "### 第四步：由上图中电影时长的频率分布直方图，并不能比较准确的反映出每个分组下电影的数量，请根据以下提示，绘制如下图所示根据电影时长分组的柱状图"
   ]
  },
  {
   "cell_type": "code",
   "execution_count": 43,
   "metadata": {},
   "outputs": [],
   "source": [
    "bins = [0,80,120,140,180,1000]\n",
    "tags = ['偏短','标准','正常','偏长','超长']"
   ]
  },
  {
   "cell_type": "markdown",
   "metadata": {},
   "source": [
    "### 第五步：具体显示每个分组下的电影数量"
   ]
  },
  {
   "cell_type": "code",
   "execution_count": 54,
   "metadata": {},
   "outputs": [
    {
     "data": {
      "text/plain": [
       "标准    130\n",
       "正常     62\n",
       "偏长     43\n",
       "超长      8\n",
       "偏短      7\n",
       "Name: movie_duration, dtype: int64"
      ]
     },
     "execution_count": 54,
     "metadata": {},
     "output_type": "execute_result"
    }
   ],
   "source": [
    "duration_series = top250['movie_duration']\n",
    "duration_labeled_series = pd.cut(duration_series, bins=bins, labels=tags)\n",
    "duration_labeled_series.value_counts()"
   ]
  },
  {
   "cell_type": "markdown",
   "metadata": {},
   "source": [
    "### 第六：绘制出结果图"
   ]
  },
  {
   "cell_type": "code",
   "execution_count": 64,
   "metadata": {},
   "outputs": [
    {
     "data": {
      "text/plain": [
       "<BarContainer object of 5 artists>"
      ]
     },
     "execution_count": 64,
     "metadata": {},
     "output_type": "execute_result"
    },
    {
     "data": {
      "image/png": "[encoded data removed]",
      "text/plain": [
       "<Figure size 432x288 with 1 Axes>"
      ]
     },
     "metadata": {
      "needs_background": "light"
     },
     "output_type": "display_data"
    }
   ],
   "source": [
    "duration_series = duration_labeled_series.value_counts(sort = False)\n",
    "plt.bar(tags, duration_series)"
   ]
  }
 ],
 "metadata": {
  "kernelspec": {
   "display_name": "Python 3",
   "language": "python",
   "name": "python3"
  },
  "language_info": {
   "codemirror_mode": {
    "name": "ipython",
    "version": 3
   },
   "file_extension": ".py",
   "mimetype": "text/x-python",
   "name": "python",
   "nbconvert_exporter": "python",
   "pygments_lexer": "ipython3",
   "version": "3.7.0"
  }
 },
 "nbformat": 4,
 "nbformat_minor": 2
}
